{
 "cells": [
  {
   "cell_type": "markdown",
   "id": "de3a8d68-8dd1-46e2-949b-06cff91308de",
   "metadata": {},
   "source": [
    "# Data Loading, Storage and File Formats \r\n",
    "Problem Statement: Analyzing Sales Data from Multiple File Formats \r\n",
    "Dataset: Sales data in multiple file formats (e.g., CSV, Excel, JSON) \r\n",
    "Description: The goal is to load and analyze sales data from different file formats, including \r\n",
    "CSV, Excel, and JSON, and perform data cleaning, transformation, and analysis on the \r\n",
    "dataset. \r\n",
    "  \r\n",
    "Tasks to Perform: \r\n",
    " Obtain sales data files in various formats, such as CSV, Excel, and JSON. \r\n",
    "1. Load the sales data from each file format into the appropriate data structures or \r\n",
    "dataframes. \r\n",
    "2. Explore the structure and content of the loaded data, identifying any inconsistencies, \r\n",
    "missing values, or data quality issues. \r\n",
    "3. Perform data cleaning operations, such as handling missing values, removing \r\n",
    "duplicates, or correcting inconsistencies. \r\n",
    "4. Convert the data into a unified format, such as a common dataframe or data structure, \r\n",
    "to enable seamless analysis.\r\n",
    "5. Perform data transformation tasks, such as merging multiple datasets, splitting \r\n",
    "columns, or deriving new variables. \r\n",
    "6. Analyze the sales data by performing descriptive statistics, aggregating data by \r\n",
    "specific variables, or calculating metrics such as total sales, average order value, or \r\n",
    "product category distribution. \r\n",
    "7. Create visualizations, such as bar plots, pie charts, or box plots, to represent the sales \r\n",
    "data and gain insights into sales trends, customer behavior, or product performance. eamless analysis."
   ]
  },
  {
   "cell_type": "markdown",
   "id": "abeb533f-1215-45cb-837b-9e0755292d27",
   "metadata": {},
   "source": [
    "- Import necessary libraries"
   ]
  },
  {
   "cell_type": "code",
   "execution_count": 41,
   "id": "319ff143-2252-408c-8623-4cf6ed85cb96",
   "metadata": {},
   "outputs": [],
   "source": [
    "import pandas as pd\n",
    "import matplotlib.pyplot as plt\n",
    "import seaborn as sns"
   ]
  },
  {
   "cell_type": "markdown",
   "id": "97354af6-7a44-4849-a606-c10a50fcf603",
   "metadata": {},
   "source": [
    "- Task 1: Load the sales data from each file format"
   ]
  },
  {
   "cell_type": "code",
   "execution_count": 42,
   "id": "03be16b2-2979-4467-a6f1-46bd265a4d87",
   "metadata": {},
   "outputs": [],
   "source": [
    "# Load CSV file\n",
    "df_csv = pd.read_csv('sales_data.csv', encoding='ISO-8859-1')\n",
    "\n",
    "# Load Excel file\n",
    "df_excel = pd.read_excel('sales_data.xls')\n",
    "\n",
    "# Load JSON file\n",
    "df_json = pd.read_json('sales_data.json')"
   ]
  },
  {
   "cell_type": "markdown",
   "id": "7a553102-8c59-4e6d-b270-c663be172da0",
   "metadata": {},
   "source": [
    "- Task 2: Explore the structure and content of the loaded data"
   ]
  },
  {
   "cell_type": "code",
   "execution_count": 43,
   "id": "e8984e29-965a-480b-8e79-baeb47e8bc73",
   "metadata": {},
   "outputs": [
    {
     "name": "stdout",
     "output_type": "stream",
     "text": [
      "CSV Data:\n",
      "   ORDERNUMBER  QUANTITYORDERED  PRICEEACH  ORDERLINENUMBER    SALES  \\\n",
      "0        10107               30      95.70                2  2871.00   \n",
      "1        10121               34      81.35                5  2765.90   \n",
      "2        10134               41      94.74                2  3884.34   \n",
      "3        10145               45      83.26                6  3746.70   \n",
      "4        10159               49     100.00               14  5205.27   \n",
      "\n",
      "         ORDERDATE   STATUS  QTR_ID  MONTH_ID  YEAR_ID  ...  \\\n",
      "0   2/24/2003 0:00  Shipped       1         2     2003  ...   \n",
      "1    5/7/2003 0:00  Shipped       2         5     2003  ...   \n",
      "2    7/1/2003 0:00  Shipped       3         7     2003  ...   \n",
      "3   8/25/2003 0:00  Shipped       3         8     2003  ...   \n",
      "4  10/10/2003 0:00  Shipped       4        10     2003  ...   \n",
      "\n",
      "                    ADDRESSLINE1  ADDRESSLINE2           CITY STATE  \\\n",
      "0        897 Long Airport Avenue           NaN            NYC    NY   \n",
      "1             59 rue de l'Abbaye           NaN          Reims   NaN   \n",
      "2  27 rue du Colonel Pierre Avia           NaN          Paris   NaN   \n",
      "3             78934 Hillside Dr.           NaN       Pasadena    CA   \n",
      "4                7734 Strong St.           NaN  San Francisco    CA   \n",
      "\n",
      "  POSTALCODE COUNTRY TERRITORY CONTACTLASTNAME CONTACTFIRSTNAME DEALSIZE  \n",
      "0      10022     USA       NaN              Yu             Kwai    Small  \n",
      "1      51100  France      EMEA         Henriot             Paul    Small  \n",
      "2      75508  France      EMEA        Da Cunha           Daniel   Medium  \n",
      "3      90003     USA       NaN           Young            Julie   Medium  \n",
      "4        NaN     USA       NaN           Brown            Julie   Medium  \n",
      "\n",
      "[5 rows x 25 columns]\n",
      "<class 'pandas.core.frame.DataFrame'>\n",
      "RangeIndex: 2823 entries, 0 to 2822\n",
      "Data columns (total 25 columns):\n",
      " #   Column            Non-Null Count  Dtype  \n",
      "---  ------            --------------  -----  \n",
      " 0   ORDERNUMBER       2823 non-null   int64  \n",
      " 1   QUANTITYORDERED   2823 non-null   int64  \n",
      " 2   PRICEEACH         2823 non-null   float64\n",
      " 3   ORDERLINENUMBER   2823 non-null   int64  \n",
      " 4   SALES             2823 non-null   float64\n",
      " 5   ORDERDATE         2823 non-null   object \n",
      " 6   STATUS            2823 non-null   object \n",
      " 7   QTR_ID            2823 non-null   int64  \n",
      " 8   MONTH_ID          2823 non-null   int64  \n",
      " 9   YEAR_ID           2823 non-null   int64  \n",
      " 10  PRODUCTLINE       2823 non-null   object \n",
      " 11  MSRP              2823 non-null   int64  \n",
      " 12  PRODUCTCODE       2823 non-null   object \n",
      " 13  CUSTOMERNAME      2823 non-null   object \n",
      " 14  PHONE             2823 non-null   object \n",
      " 15  ADDRESSLINE1      2823 non-null   object \n",
      " 16  ADDRESSLINE2      302 non-null    object \n",
      " 17  CITY              2823 non-null   object \n",
      " 18  STATE             1337 non-null   object \n",
      " 19  POSTALCODE        2747 non-null   object \n",
      " 20  COUNTRY           2823 non-null   object \n",
      " 21  TERRITORY         1749 non-null   object \n",
      " 22  CONTACTLASTNAME   2823 non-null   object \n",
      " 23  CONTACTFIRSTNAME  2823 non-null   object \n",
      " 24  DEALSIZE          2823 non-null   object \n",
      "dtypes: float64(2), int64(7), object(16)\n",
      "memory usage: 551.5+ KB\n",
      "None\n",
      "\n",
      "Excel Data:\n",
      "   Row ID        Order ID Order Date  Ship Date       Ship Mode Customer ID  \\\n",
      "0       1  CA-2016-152156 2016-11-08 2016-11-11    Second Class    CG-12520   \n",
      "1       2  CA-2016-152156 2016-11-08 2016-11-11    Second Class    CG-12520   \n",
      "2       3  CA-2016-138688 2016-06-12 2016-06-16    Second Class    DV-13045   \n",
      "3       4  US-2015-108966 2015-10-11 2015-10-18  Standard Class    SO-20335   \n",
      "4       5  US-2015-108966 2015-10-11 2015-10-18  Standard Class    SO-20335   \n",
      "\n",
      "     Customer Name    Segment        Country             City  ...  \\\n",
      "0      Claire Gute   Consumer  United States        Henderson  ...   \n",
      "1      Claire Gute   Consumer  United States        Henderson  ...   \n",
      "2  Darrin Van Huff  Corporate  United States      Los Angeles  ...   \n",
      "3   Sean O'Donnell   Consumer  United States  Fort Lauderdale  ...   \n",
      "4   Sean O'Donnell   Consumer  United States  Fort Lauderdale  ...   \n",
      "\n",
      "  Postal Code  Region       Product ID         Category Sub-Category  \\\n",
      "0       42420   South  FUR-BO-10001798        Furniture    Bookcases   \n",
      "1       42420   South  FUR-CH-10000454        Furniture       Chairs   \n",
      "2       90036    West  OFF-LA-10000240  Office Supplies       Labels   \n",
      "3       33311   South  FUR-TA-10000577        Furniture       Tables   \n",
      "4       33311   South  OFF-ST-10000760  Office Supplies      Storage   \n",
      "\n",
      "                                        Product Name     Sales  Quantity  \\\n",
      "0                  Bush Somerset Collection Bookcase  261.9600         2   \n",
      "1  Hon Deluxe Fabric Upholstered Stacking Chairs,...  731.9400         3   \n",
      "2  Self-Adhesive Address Labels for Typewriters b...   14.6200         2   \n",
      "3      Bretford CR4500 Series Slim Rectangular Table  957.5775         5   \n",
      "4                     Eldon Fold 'N Roll Cart System   22.3680         2   \n",
      "\n",
      "   Discount    Profit  \n",
      "0      0.00   41.9136  \n",
      "1      0.00  219.5820  \n",
      "2      0.00    6.8714  \n",
      "3      0.45 -383.0310  \n",
      "4      0.20    2.5164  \n",
      "\n",
      "[5 rows x 21 columns]\n",
      "<class 'pandas.core.frame.DataFrame'>\n",
      "RangeIndex: 9994 entries, 0 to 9993\n",
      "Data columns (total 21 columns):\n",
      " #   Column         Non-Null Count  Dtype         \n",
      "---  ------         --------------  -----         \n",
      " 0   Row ID         9994 non-null   int64         \n",
      " 1   Order ID       9994 non-null   object        \n",
      " 2   Order Date     9994 non-null   datetime64[ns]\n",
      " 3   Ship Date      9994 non-null   datetime64[ns]\n",
      " 4   Ship Mode      9994 non-null   object        \n",
      " 5   Customer ID    9994 non-null   object        \n",
      " 6   Customer Name  9994 non-null   object        \n",
      " 7   Segment        9994 non-null   object        \n",
      " 8   Country        9994 non-null   object        \n",
      " 9   City           9994 non-null   object        \n",
      " 10  State          9994 non-null   object        \n",
      " 11  Postal Code    9994 non-null   int64         \n",
      " 12  Region         9994 non-null   object        \n",
      " 13  Product ID     9994 non-null   object        \n",
      " 14  Category       9994 non-null   object        \n",
      " 15  Sub-Category   9994 non-null   object        \n",
      " 16  Product Name   9994 non-null   object        \n",
      " 17  Sales          9994 non-null   float64       \n",
      " 18  Quantity       9994 non-null   int64         \n",
      " 19  Discount       9994 non-null   float64       \n",
      " 20  Profit         9994 non-null   float64       \n",
      "dtypes: datetime64[ns](2), float64(3), int64(3), object(13)\n",
      "memory usage: 1.6+ MB\n",
      "None\n",
      "\n",
      "JSON Data:\n",
      "   SaleId  OrderId  ProductId  Quantity\n",
      "0       1        1          3         1\n",
      "1       2        1          7         9\n",
      "2       3        2          5        12\n",
      "3       4        2         10         3\n",
      "4       5        2          4         3\n",
      "<class 'pandas.core.frame.DataFrame'>\n",
      "RangeIndex: 61883 entries, 0 to 61882\n",
      "Data columns (total 4 columns):\n",
      " #   Column     Non-Null Count  Dtype\n",
      "---  ------     --------------  -----\n",
      " 0   SaleId     61883 non-null  int64\n",
      " 1   OrderId    61883 non-null  int64\n",
      " 2   ProductId  61883 non-null  int64\n",
      " 3   Quantity   61883 non-null  int64\n",
      "dtypes: int64(4)\n",
      "memory usage: 1.9 MB\n",
      "None\n",
      "Index(['SaleId', 'OrderId', 'ProductId', 'Quantity'], dtype='object')\n"
     ]
    }
   ],
   "source": [
    "print(\"CSV Data:\")\n",
    "print(df_csv.head())\n",
    "print(df_csv.info())\n",
    "\n",
    "print(\"\\nExcel Data:\")\n",
    "print(df_excel.head())\n",
    "print(df_excel.info())\n",
    "\n",
    "print(\"\\nJSON Data:\")\n",
    "print(df_json.head())\n",
    "print(df_json.info())\n",
    "print(df_json.columns)"
   ]
  },
  {
   "cell_type": "markdown",
   "id": "90fa6cf7-7fc2-4e83-8815-758dd60149ec",
   "metadata": {},
   "source": [
    "- Task 3: Data cleaning operations"
   ]
  },
  {
   "cell_type": "code",
   "execution_count": 44,
   "id": "9a222964-9b36-4701-a55a-a1a079dcbc63",
   "metadata": {},
   "outputs": [],
   "source": [
    "# Forward fill for missing values in the CSV data\n",
    "df_csv.ffill(inplace=True)  # Using the recommended method\n",
    "\n",
    "# Remove duplicates in Excel data\n",
    "df_excel.drop_duplicates(inplace=True)\n",
    "\n",
    "# Drop rows with missing values in 'Quantity' (or any relevant column) in JSON data\n",
    "df_json.dropna(subset=['Quantity'], inplace=True)  # Adjust the column name if necessary\n"
   ]
  },
  {
   "cell_type": "code",
   "execution_count": 45,
   "id": "d5bf1029-297b-4e83-9d65-d6f22730f95f",
   "metadata": {},
   "outputs": [
    {
     "name": "stdout",
     "output_type": "stream",
     "text": [
      "CSV DataFrame after cleaning:\n",
      "   ORDERNUMBER  QUANTITYORDERED  PRICEEACH  ORDERLINENUMBER    SALES  \\\n",
      "0        10107               30      95.70                2  2871.00   \n",
      "1        10121               34      81.35                5  2765.90   \n",
      "2        10134               41      94.74                2  3884.34   \n",
      "3        10145               45      83.26                6  3746.70   \n",
      "4        10159               49     100.00               14  5205.27   \n",
      "\n",
      "         ORDERDATE   STATUS  QTR_ID  MONTH_ID  YEAR_ID  ...  \\\n",
      "0   2/24/2003 0:00  Shipped       1         2     2003  ...   \n",
      "1    5/7/2003 0:00  Shipped       2         5     2003  ...   \n",
      "2    7/1/2003 0:00  Shipped       3         7     2003  ...   \n",
      "3   8/25/2003 0:00  Shipped       3         8     2003  ...   \n",
      "4  10/10/2003 0:00  Shipped       4        10     2003  ...   \n",
      "\n",
      "                    ADDRESSLINE1  ADDRESSLINE2           CITY STATE  \\\n",
      "0        897 Long Airport Avenue           NaN            NYC    NY   \n",
      "1             59 rue de l'Abbaye           NaN          Reims    NY   \n",
      "2  27 rue du Colonel Pierre Avia           NaN          Paris    NY   \n",
      "3             78934 Hillside Dr.           NaN       Pasadena    CA   \n",
      "4                7734 Strong St.           NaN  San Francisco    CA   \n",
      "\n",
      "  POSTALCODE COUNTRY TERRITORY CONTACTLASTNAME CONTACTFIRSTNAME DEALSIZE  \n",
      "0      10022     USA       NaN              Yu             Kwai    Small  \n",
      "1      51100  France      EMEA         Henriot             Paul    Small  \n",
      "2      75508  France      EMEA        Da Cunha           Daniel   Medium  \n",
      "3      90003     USA      EMEA           Young            Julie   Medium  \n",
      "4      90003     USA      EMEA           Brown            Julie   Medium  \n",
      "\n",
      "[5 rows x 25 columns]\n",
      "Excel DataFrame after cleaning:\n",
      "   Row ID        Order ID Order Date  Ship Date       Ship Mode Customer ID  \\\n",
      "0       1  CA-2016-152156 2016-11-08 2016-11-11    Second Class    CG-12520   \n",
      "1       2  CA-2016-152156 2016-11-08 2016-11-11    Second Class    CG-12520   \n",
      "2       3  CA-2016-138688 2016-06-12 2016-06-16    Second Class    DV-13045   \n",
      "3       4  US-2015-108966 2015-10-11 2015-10-18  Standard Class    SO-20335   \n",
      "4       5  US-2015-108966 2015-10-11 2015-10-18  Standard Class    SO-20335   \n",
      "\n",
      "     Customer Name    Segment        Country             City  ...  \\\n",
      "0      Claire Gute   Consumer  United States        Henderson  ...   \n",
      "1      Claire Gute   Consumer  United States        Henderson  ...   \n",
      "2  Darrin Van Huff  Corporate  United States      Los Angeles  ...   \n",
      "3   Sean O'Donnell   Consumer  United States  Fort Lauderdale  ...   \n",
      "4   Sean O'Donnell   Consumer  United States  Fort Lauderdale  ...   \n",
      "\n",
      "  Postal Code  Region       Product ID         Category Sub-Category  \\\n",
      "0       42420   South  FUR-BO-10001798        Furniture    Bookcases   \n",
      "1       42420   South  FUR-CH-10000454        Furniture       Chairs   \n",
      "2       90036    West  OFF-LA-10000240  Office Supplies       Labels   \n",
      "3       33311   South  FUR-TA-10000577        Furniture       Tables   \n",
      "4       33311   South  OFF-ST-10000760  Office Supplies      Storage   \n",
      "\n",
      "                                        Product Name     Sales  Quantity  \\\n",
      "0                  Bush Somerset Collection Bookcase  261.9600         2   \n",
      "1  Hon Deluxe Fabric Upholstered Stacking Chairs,...  731.9400         3   \n",
      "2  Self-Adhesive Address Labels for Typewriters b...   14.6200         2   \n",
      "3      Bretford CR4500 Series Slim Rectangular Table  957.5775         5   \n",
      "4                     Eldon Fold 'N Roll Cart System   22.3680         2   \n",
      "\n",
      "   Discount    Profit  \n",
      "0      0.00   41.9136  \n",
      "1      0.00  219.5820  \n",
      "2      0.00    6.8714  \n",
      "3      0.45 -383.0310  \n",
      "4      0.20    2.5164  \n",
      "\n",
      "[5 rows x 21 columns]\n",
      "JSON DataFrame after cleaning:\n",
      "   SaleId  OrderId  ProductId  Quantity\n",
      "0       1        1          3         1\n",
      "1       2        1          7         9\n",
      "2       3        2          5        12\n",
      "3       4        2         10         3\n",
      "4       5        2          4         3\n"
     ]
    }
   ],
   "source": [
    "print(\"CSV DataFrame after cleaning:\")\n",
    "print(df_csv.head())\n",
    "\n",
    "print(\"Excel DataFrame after cleaning:\")\n",
    "print(df_excel.head())\n",
    "\n",
    "print(\"JSON DataFrame after cleaning:\")\n",
    "print(df_json.head())\n"
   ]
  },
  {
   "cell_type": "markdown",
   "id": "7196b3a5-2982-4df5-93a0-f20ca53d34ef",
   "metadata": {},
   "source": [
    "- Task 4: Convert data into a unified format"
   ]
  },
  {
   "cell_type": "code",
   "execution_count": 46,
   "id": "3618ecea-754a-490e-a054-cdb6f20697d0",
   "metadata": {},
   "outputs": [
    {
     "name": "stdout",
     "output_type": "stream",
     "text": [
      "Index(['ORDERNUMBER', 'QUANTITYORDERED', 'PRICEEACH', 'ORDERLINENUMBER',\n",
      "       'SALES', 'ORDERDATE', 'STATUS', 'QTR_ID', 'MONTH_ID', 'YEAR_ID',\n",
      "       'PRODUCTLINE', 'MSRP', 'PRODUCTCODE', 'CUSTOMERNAME', 'PHONE',\n",
      "       'ADDRESSLINE1', 'ADDRESSLINE2', 'CITY', 'STATE', 'POSTALCODE',\n",
      "       'COUNTRY', 'TERRITORY', 'CONTACTLASTNAME', 'CONTACTFIRSTNAME',\n",
      "       'DEALSIZE', 'Row ID', 'Order ID', 'Order Date', 'Ship Date',\n",
      "       'Ship Mode', 'Customer ID', 'Customer Name', 'Segment', 'Country',\n",
      "       'City', 'State', 'Postal Code', 'Region', 'Product ID', 'Category',\n",
      "       'Sub-Category', 'Product Name', 'Sales', 'Quantity', 'Discount',\n",
      "       'Profit', 'SaleId', 'OrderId', 'ProductId'],\n",
      "      dtype='object')\n"
     ]
    }
   ],
   "source": [
    "# Concatenate all dataframes into a single dataframe\n",
    "df_combined = pd.concat([df_csv, df_excel, df_json], ignore_index=True)\n",
    "print(df_combined.columns)"
   ]
  },
  {
   "cell_type": "markdown",
   "id": "7b59f49f-98fa-4a24-add0-e3dfab800241",
   "metadata": {},
   "source": [
    "- Task 5: Data transformation"
   ]
  },
  {
   "cell_type": "code",
   "execution_count": 47,
   "id": "916b7fe5-63e4-4618-a984-bc34f215698a",
   "metadata": {},
   "outputs": [
    {
     "name": "stdout",
     "output_type": "stream",
     "text": [
      "   ORDERNUMBER  QUANTITYORDERED  PRICEEACH  ORDERLINENUMBER    SALES  \\\n",
      "0      10107.0             30.0      95.70              2.0  2871.00   \n",
      "1      10121.0             34.0      81.35              5.0  2765.90   \n",
      "2      10134.0             41.0      94.74              2.0  3884.34   \n",
      "3      10145.0             45.0      83.26              6.0  3746.70   \n",
      "4      10159.0             49.0     100.00             14.0  5205.27   \n",
      "\n",
      "         ORDERDATE   STATUS  QTR_ID  MONTH_ID  YEAR_ID  ... Sub-Category  \\\n",
      "0   2/24/2003 0:00  Shipped     1.0       2.0   2003.0  ...          NaN   \n",
      "1    5/7/2003 0:00  Shipped     2.0       5.0   2003.0  ...          NaN   \n",
      "2    7/1/2003 0:00  Shipped     3.0       7.0   2003.0  ...          NaN   \n",
      "3   8/25/2003 0:00  Shipped     3.0       8.0   2003.0  ...          NaN   \n",
      "4  10/10/2003 0:00  Shipped     4.0      10.0   2003.0  ...          NaN   \n",
      "\n",
      "   Product Name Sales Quantity Discount Profit SaleId OrderId ProductId  \\\n",
      "0           NaN   NaN      NaN      NaN    NaN    NaN     NaN       NaN   \n",
      "1           NaN   NaN      NaN      NaN    NaN    NaN     NaN       NaN   \n",
      "2           NaN   NaN      NaN      NaN    NaN    NaN     NaN       NaN   \n",
      "3           NaN   NaN      NaN      NaN    NaN    NaN     NaN       NaN   \n",
      "4           NaN   NaN      NaN      NaN    NaN    NaN     NaN       NaN   \n",
      "\n",
      "  Total Sales  \n",
      "0     2871.00  \n",
      "1     2765.90  \n",
      "2     3884.34  \n",
      "3     3746.70  \n",
      "4     4900.00  \n",
      "\n",
      "[5 rows x 50 columns]\n",
      "   Total Sales\n",
      "0      2871.00\n",
      "1      2765.90\n",
      "2      3884.34\n",
      "3      3746.70\n",
      "4      4900.00\n"
     ]
    }
   ],
   "source": [
    "# Deriving a new variable for total sales\n",
    "df_combined['Total Sales'] = df_combined['QUANTITYORDERED'] * df_combined['PRICEEACH']\n",
    "# Check the original DataFrame\n",
    "print(df_combined.head())\n",
    "\n",
    "# Check if the Total Sales column exists and is calculated correctly\n",
    "print(df_combined[['Total Sales']].head())"
   ]
  },
  {
   "cell_type": "code",
   "execution_count": 48,
   "id": "718ae148-52f4-44f7-b010-0ac2b016de0c",
   "metadata": {},
   "outputs": [
    {
     "name": "stdout",
     "output_type": "stream",
     "text": [
      "Category       0\n",
      "Total Sales    0\n",
      "dtype: int64\n"
     ]
    }
   ],
   "source": [
    "print(sales_by_category.isnull().sum())"
   ]
  },
  {
   "cell_type": "markdown",
   "id": "f8e785b3-b6ca-4825-93d1-b00039c7f973",
   "metadata": {},
   "source": [
    "- Task 6: Analyze the sales data"
   ]
  },
  {
   "cell_type": "code",
   "execution_count": 49,
   "id": "a9af613b-e630-4e8f-a2d3-d966a6850c8d",
   "metadata": {},
   "outputs": [
    {
     "name": "stdout",
     "output_type": "stream",
     "text": [
      "\n",
      "Descriptive Statistics:\n",
      "        ORDERNUMBER  QUANTITYORDERED    PRICEEACH  ORDERLINENUMBER  \\\n",
      "count   2823.000000      2823.000000  2823.000000      2823.000000   \n",
      "mean   10258.725115        35.092809    83.658544         6.466171   \n",
      "min    10100.000000         6.000000    26.880000         1.000000   \n",
      "25%    10180.000000        27.000000    68.860000         3.000000   \n",
      "50%    10262.000000        35.000000    95.700000         6.000000   \n",
      "75%    10333.500000        43.000000   100.000000         9.000000   \n",
      "max    10425.000000        97.000000   100.000000        18.000000   \n",
      "std       92.085478         9.741443    20.174277         4.225841   \n",
      "\n",
      "              SALES       QTR_ID     MONTH_ID     YEAR_ID         MSRP  \\\n",
      "count   2823.000000  2823.000000  2823.000000  2823.00000  2823.000000   \n",
      "mean    3553.889072     2.717676     7.092455  2003.81509   100.715551   \n",
      "min      482.130000     1.000000     1.000000  2003.00000    33.000000   \n",
      "25%     2203.430000     2.000000     4.000000  2003.00000    68.000000   \n",
      "50%     3184.800000     3.000000     8.000000  2004.00000    99.000000   \n",
      "75%     4508.000000     4.000000    11.000000  2004.00000   124.000000   \n",
      "max    14082.800000     4.000000    12.000000  2005.00000   214.000000   \n",
      "std     1841.865106     1.203878     3.656633     0.69967    40.187912   \n",
      "\n",
      "            Row ID  ...                      Ship Date   Postal Code  \\\n",
      "count  9994.000000  ...                           9994   9994.000000   \n",
      "mean   4997.500000  ...  2016-05-03 23:06:58.571142912  55190.379428   \n",
      "min       1.000000  ...            2014-01-07 00:00:00   1040.000000   \n",
      "25%    2499.250000  ...            2015-05-27 00:00:00  23223.000000   \n",
      "50%    4997.500000  ...            2016-06-29 00:00:00  56430.500000   \n",
      "75%    7495.750000  ...            2017-05-18 00:00:00  90008.000000   \n",
      "max    9994.000000  ...            2018-01-05 00:00:00  99301.000000   \n",
      "std    2885.163629  ...                            NaN  32063.693350   \n",
      "\n",
      "              Sales      Quantity     Discount       Profit        SaleId  \\\n",
      "count   9994.000000  71877.000000  9994.000000  9994.000000  61883.000000   \n",
      "mean     229.858001      3.546280     0.156203    28.656896  30942.000000   \n",
      "min        0.444000      1.000000     0.000000 -6599.978000      1.000000   \n",
      "25%       17.280000      1.000000     0.000000     1.728750  15471.500000   \n",
      "50%       54.490000      3.000000     0.200000     8.666500  30942.000000   \n",
      "75%      209.940000      5.000000     0.200000    29.364000  46412.500000   \n",
      "max    22638.480000     36.000000     0.800000  8399.976000  61883.000000   \n",
      "std      623.245101      2.882093     0.206452   234.260108  17864.227691   \n",
      "\n",
      "            OrderId     ProductId  Total Sales  \n",
      "count  61883.000000  61883.000000  2823.000000  \n",
      "mean    5615.181714      6.505325  2936.906408  \n",
      "min        1.000000      1.000000   482.130000  \n",
      "25%     2785.000000      4.000000  2100.000000  \n",
      "50%     5643.000000      7.000000  2800.000000  \n",
      "75%     8448.000000     10.000000  3726.810000  \n",
      "max    11235.000000     12.000000  9048.160000  \n",
      "std     3258.820493      3.455645  1105.644284  \n",
      "\n",
      "[8 rows x 21 columns]\n"
     ]
    }
   ],
   "source": [
    "# Descriptive statistics\n",
    "print(\"\\nDescriptive Statistics:\")\n",
    "print(df_combined.describe())"
   ]
  },
  {
   "cell_type": "markdown",
   "id": "5bfd380e-3f24-413d-87b2-6be6204235f4",
   "metadata": {},
   "source": [
    "- Task 6: Analyze the sales data"
   ]
  },
  {
   "cell_type": "code",
   "execution_count": 50,
   "id": "93c883f6-4f0a-49ae-a17d-720f24d2bdf8",
   "metadata": {},
   "outputs": [
    {
     "name": "stdout",
     "output_type": "stream",
     "text": [
      "\n",
      "Descriptive Statistics:\n",
      "        ORDERNUMBER  QUANTITYORDERED    PRICEEACH  ORDERLINENUMBER  \\\n",
      "count   2823.000000      2823.000000  2823.000000      2823.000000   \n",
      "mean   10258.725115        35.092809    83.658544         6.466171   \n",
      "min    10100.000000         6.000000    26.880000         1.000000   \n",
      "25%    10180.000000        27.000000    68.860000         3.000000   \n",
      "50%    10262.000000        35.000000    95.700000         6.000000   \n",
      "75%    10333.500000        43.000000   100.000000         9.000000   \n",
      "max    10425.000000        97.000000   100.000000        18.000000   \n",
      "std       92.085478         9.741443    20.174277         4.225841   \n",
      "\n",
      "              SALES       QTR_ID     MONTH_ID     YEAR_ID         MSRP  \\\n",
      "count   2823.000000  2823.000000  2823.000000  2823.00000  2823.000000   \n",
      "mean    3553.889072     2.717676     7.092455  2003.81509   100.715551   \n",
      "min      482.130000     1.000000     1.000000  2003.00000    33.000000   \n",
      "25%     2203.430000     2.000000     4.000000  2003.00000    68.000000   \n",
      "50%     3184.800000     3.000000     8.000000  2004.00000    99.000000   \n",
      "75%     4508.000000     4.000000    11.000000  2004.00000   124.000000   \n",
      "max    14082.800000     4.000000    12.000000  2005.00000   214.000000   \n",
      "std     1841.865106     1.203878     3.656633     0.69967    40.187912   \n",
      "\n",
      "            Row ID  ...                      Ship Date   Postal Code  \\\n",
      "count  9994.000000  ...                           9994   9994.000000   \n",
      "mean   4997.500000  ...  2016-05-03 23:06:58.571142912  55190.379428   \n",
      "min       1.000000  ...            2014-01-07 00:00:00   1040.000000   \n",
      "25%    2499.250000  ...            2015-05-27 00:00:00  23223.000000   \n",
      "50%    4997.500000  ...            2016-06-29 00:00:00  56430.500000   \n",
      "75%    7495.750000  ...            2017-05-18 00:00:00  90008.000000   \n",
      "max    9994.000000  ...            2018-01-05 00:00:00  99301.000000   \n",
      "std    2885.163629  ...                            NaN  32063.693350   \n",
      "\n",
      "              Sales      Quantity     Discount       Profit        SaleId  \\\n",
      "count   9994.000000  71877.000000  9994.000000  9994.000000  61883.000000   \n",
      "mean     229.858001      3.546280     0.156203    28.656896  30942.000000   \n",
      "min        0.444000      1.000000     0.000000 -6599.978000      1.000000   \n",
      "25%       17.280000      1.000000     0.000000     1.728750  15471.500000   \n",
      "50%       54.490000      3.000000     0.200000     8.666500  30942.000000   \n",
      "75%      209.940000      5.000000     0.200000    29.364000  46412.500000   \n",
      "max    22638.480000     36.000000     0.800000  8399.976000  61883.000000   \n",
      "std      623.245101      2.882093     0.206452   234.260108  17864.227691   \n",
      "\n",
      "            OrderId     ProductId  Total Sales  \n",
      "count  61883.000000  61883.000000  2823.000000  \n",
      "mean    5615.181714      6.505325  2936.906408  \n",
      "min        1.000000      1.000000   482.130000  \n",
      "25%     2785.000000      4.000000  2100.000000  \n",
      "50%     5643.000000      7.000000  2800.000000  \n",
      "75%     8448.000000     10.000000  3726.810000  \n",
      "max    11235.000000     12.000000  9048.160000  \n",
      "std     3258.820493      3.455645  1105.644284  \n",
      "\n",
      "[8 rows x 21 columns]\n",
      "\n",
      "Sales by Category:\n",
      "          Category   Total Sales\n",
      "0        Furniture  3.859215e+06\n",
      "1  Office Supplies  3.548585e+06\n",
      "2       Technology  4.080262e+06\n"
     ]
    }
   ],
   "source": [
    "# Descriptive statistics\n",
    "print(\"\\nDescriptive Statistics:\")\n",
    "print(df_combined.describe())\n",
    "\n",
    "# Make sure 'Total Sales' column exists and is correctly calculated\n",
    "df_combined['Total Sales'] = df_combined['Quantity'] * df_combined['Sales']\n",
    "\n",
    "# Then aggregate by category\n",
    "sales_by_category = df_combined.groupby('Category')['Total Sales'].sum().reset_index()\n",
    "\n",
    "\n",
    "# Display the aggregated sales by category\n",
    "print(\"\\nSales by Category:\")\n",
    "print(sales_by_category)"
   ]
  },
  {
   "cell_type": "code",
   "execution_count": 51,
   "id": "14954929-dcb0-4c78-9420-9c8560cb26fc",
   "metadata": {},
   "outputs": [
    {
     "name": "stderr",
     "output_type": "stream",
     "text": [
      "C:\\Users\\Aditi\\AppData\\Local\\Temp\\ipykernel_14696\\4263910469.py:2: FutureWarning: \n",
      "\n",
      "Passing `palette` without assigning `hue` is deprecated and will be removed in v0.14.0. Assign the `x` variable to `hue` and set `legend=False` for the same effect.\n",
      "\n",
      "  sns.barplot(data=sales_by_category, x='Category', y='Total Sales', palette='viridis')\n"
     ]
    },
    {
     "data": {
      "image/png": "[encoded data removed]",
      "text/plain": [
       "<Figure size 1000x600 with 1 Axes>"
      ]
     },
     "metadata": {},
     "output_type": "display_data"
    }
   ],
   "source": [
    "plt.figure(figsize=(10, 6))\n",
    "sns.barplot(data=sales_by_category, x='Category', y='Total Sales', palette='viridis')\n",
    "plt.title('Total Sales by Product Category')\n",
    "plt.xlabel('Product Category')\n",
    "plt.ylabel('Total Sales')\n",
    "plt.xticks(rotation=45)\n",
    "plt.tight_layout()\n",
    "plt.show()\n"
   ]
  },
  {
   "cell_type": "code",
   "execution_count": 52,
   "id": "5f7dc37d-f2d2-472e-8e66-9c57ec287eab",
   "metadata": {},
   "outputs": [
    {
     "data": {
      "image/png": "[encoded data removed]",
      "text/plain": [
       "<Figure size 800x800 with 1 Axes>"
      ]
     },
     "metadata": {},
     "output_type": "display_data"
    }
   ],
   "source": [
    "# Pie chart for sales distribution\n",
    "plt.figure(figsize=(8, 8))\n",
    "plt.pie(sales_by_category['Total Sales'], labels=sales_by_category['Category'], autopct='%1.1f%%', startangle=140)\n",
    "plt.title('Sales Distribution by Product Category')\n",
    "plt.axis('equal')  # Equal aspect ratio ensures that pie chart is circular.\n",
    "plt.show()\n"
   ]
  },
  {
   "cell_type": "code",
   "execution_count": null,
   "id": "210f3ec8-6113-4095-b283-c5850068dfd7",
   "metadata": {},
   "outputs": [],
   "source": []
  }
 ],
 "metadata": {
  "kernelspec": {
   "display_name": "Python 3 (ipykernel)",
   "language": "python",
   "name": "python3"
  },
  "language_info": {
   "codemirror_mode": {
    "name": "ipython",
    "version": 3
   },
   "file_extension": ".py",
   "mimetype": "text/x-python",
   "name": "python",
   "nbconvert_exporter": "python",
   "pygments_lexer": "ipython3",
   "version": "3.10.9"
  }
 },
 "nbformat": 4,
 "nbformat_minor": 5
}
