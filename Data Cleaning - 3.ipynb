{
 "cells": [
  {
   "cell_type": "markdown",
   "id": "bd648b0c-eeca-446a-a065-1e1900523c73",
   "metadata": {},
   "source": [
    "# Data Cleaning and Preparation \r\n",
    "Problem Statement: Analyzing Customer Churn in a Telecommunications Company \r\n",
    "Dataset: \"Telecom_Customer_Churn.csv\" \r\n",
    "Description: The dataset contains information about customers of a telecommunications \r\n",
    "company and whether they have churned (i.e., discontinued their services). The dataset \r\n",
    "includes various attributes of the customers, such as their demographics, usage patterns, and \r\n",
    "account information. The goal is to perform data cleaning and preparation to gain insights \r\n",
    "into the factors that contribute to customer churn. \r\n",
    "Tasks to Perform: \r\n",
    "1. Import the \"Telecom_Customer_Churn.csv\" dataset. \r\n",
    "2.  Explore the dataset to understand its structure and content. \r\n",
    "3.  Handle missing values in the dataset, deciding on an appropriate strategy. \r\n",
    "4. Remove any duplicate records from the dataset. \r\n",
    "5.  Check for inconsistent data, such as inconsistent formatting or spelling variations, \r\n",
    "and standardize it. \r\n",
    "6.  Convert columns to the correct data types as needed. \r\n",
    "7. Identify and handle outliers in the data. \r\n",
    "8. Perform feature engineering, creating new features that may be relevant to \r\n",
    "predicting customer churn. \r\n",
    "9.  Normalize or scale the data if necessary. \r\n",
    "10. Split the dataset into training and testing sets for further analysis. \r\n",
    "11. Export the cleaned dataset for future analysis or modeling. "
   ]
  },
  {
   "cell_type": "markdown",
   "id": "65b8fbf2-c094-41cf-b1a9-48469789625c",
   "metadata": {},
   "source": [
    "- Import necessary libraries"
   ]
  },
  {
   "cell_type": "code",
   "execution_count": 1,
   "id": "ec00c24c-8f87-4d43-a4ab-fdb69ec94c15",
   "metadata": {},
   "outputs": [],
   "source": [
    "import pandas as pd\n",
    "import numpy as np\n",
    "import matplotlib.pyplot as plt\n",
    "import seaborn as sns\n",
    "from sklearn.model_selection import train_test_split\n",
    "from scipy import stats"
   ]
  },
  {
   "cell_type": "markdown",
   "id": "653b9282-1122-4945-88c5-c3c8022ba191",
   "metadata": {},
   "source": [
    "- Task 1: Import the dataset"
   ]
  },
  {
   "cell_type": "code",
   "execution_count": 2,
   "id": "c234e19c-944e-477c-a019-06ccf70b777d",
   "metadata": {},
   "outputs": [],
   "source": [
    "df = pd.read_csv('Telecom_Customer_Churn.csv')"
   ]
  },
  {
   "cell_type": "markdown",
   "id": "46076a37-29e6-437a-98cf-7ae687961372",
   "metadata": {},
   "source": [
    "- Task 2: Explore the dataset"
   ]
  },
  {
   "cell_type": "code",
   "execution_count": 3,
   "id": "ed52f19a-f2a6-48c3-9971-73273b469c80",
   "metadata": {},
   "outputs": [
    {
     "name": "stdout",
     "output_type": "stream",
     "text": [
      "First five rows of the dataset:\n",
      "  Customer ID  Gender  Age Married  Number of Dependents          City  \\\n",
      "0  0002-ORFBO  Female   37     Yes                     0  Frazier Park   \n",
      "1  0003-MKNFE    Male   46      No                     0      Glendale   \n",
      "2  0004-TLHLJ    Male   50      No                     0    Costa Mesa   \n",
      "3  0011-IGKFF    Male   78     Yes                     0      Martinez   \n",
      "4  0013-EXCHZ  Female   75     Yes                     0     Camarillo   \n",
      "\n",
      "   Zip Code   Latitude   Longitude  Number of Referrals  ...   Payment Method  \\\n",
      "0     93225  34.827662 -118.999073                    2  ...      Credit Card   \n",
      "1     91206  34.162515 -118.203869                    0  ...      Credit Card   \n",
      "2     92627  33.645672 -117.922613                    0  ...  Bank Withdrawal   \n",
      "3     94553  38.014457 -122.115432                    1  ...  Bank Withdrawal   \n",
      "4     93010  34.227846 -119.079903                    3  ...      Credit Card   \n",
      "\n",
      "  Monthly Charge Total Charges  Total Refunds Total Extra Data Charges  \\\n",
      "0           65.6        593.30           0.00                        0   \n",
      "1           -4.0        542.40          38.33                       10   \n",
      "2           73.9        280.85           0.00                        0   \n",
      "3           98.0       1237.85           0.00                        0   \n",
      "4           83.9        267.40           0.00                        0   \n",
      "\n",
      "  Total Long Distance Charges Total Revenue  Customer Status   Churn Category  \\\n",
      "0                      381.51        974.81           Stayed              NaN   \n",
      "1                       96.21        610.28           Stayed              NaN   \n",
      "2                      134.60        415.45          Churned       Competitor   \n",
      "3                      361.66       1599.51          Churned  Dissatisfaction   \n",
      "4                       22.14        289.54          Churned  Dissatisfaction   \n",
      "\n",
      "                    Churn Reason  \n",
      "0                            NaN  \n",
      "1                            NaN  \n",
      "2  Competitor had better devices  \n",
      "3        Product dissatisfaction  \n",
      "4            Network reliability  \n",
      "\n",
      "[5 rows x 38 columns]\n",
      "\n",
      "Dataset information:\n",
      "<class 'pandas.core.frame.DataFrame'>\n",
      "RangeIndex: 7043 entries, 0 to 7042\n",
      "Data columns (total 38 columns):\n",
      " #   Column                             Non-Null Count  Dtype  \n",
      "---  ------                             --------------  -----  \n",
      " 0   Customer ID                        7043 non-null   object \n",
      " 1   Gender                             7043 non-null   object \n",
      " 2   Age                                7043 non-null   int64  \n",
      " 3   Married                            7043 non-null   object \n",
      " 4   Number of Dependents               7043 non-null   int64  \n",
      " 5   City                               7043 non-null   object \n",
      " 6   Zip Code                           7043 non-null   int64  \n",
      " 7   Latitude                           7043 non-null   float64\n",
      " 8   Longitude                          7043 non-null   float64\n",
      " 9   Number of Referrals                7043 non-null   int64  \n",
      " 10  Tenure in Months                   7043 non-null   int64  \n",
      " 11  Offer                              3166 non-null   object \n",
      " 12  Phone Service                      7043 non-null   object \n",
      " 13  Avg Monthly Long Distance Charges  6361 non-null   float64\n",
      " 14  Multiple Lines                     6361 non-null   object \n",
      " 15  Internet Service                   7043 non-null   object \n",
      " 16  Internet Type                      5517 non-null   object \n",
      " 17  Avg Monthly GB Download            5517 non-null   float64\n",
      " 18  Online Security                    5517 non-null   object \n",
      " 19  Online Backup                      5517 non-null   object \n",
      " 20  Device Protection Plan             5517 non-null   object \n",
      " 21  Premium Tech Support               5517 non-null   object \n",
      " 22  Streaming TV                       5517 non-null   object \n",
      " 23  Streaming Movies                   5517 non-null   object \n",
      " 24  Streaming Music                    5517 non-null   object \n",
      " 25  Unlimited Data                     5517 non-null   object \n",
      " 26  Contract                           7043 non-null   object \n",
      " 27  Paperless Billing                  7043 non-null   object \n",
      " 28  Payment Method                     7043 non-null   object \n",
      " 29  Monthly Charge                     7043 non-null   float64\n",
      " 30  Total Charges                      7043 non-null   float64\n",
      " 31  Total Refunds                      7043 non-null   float64\n",
      " 32  Total Extra Data Charges           7043 non-null   int64  \n",
      " 33  Total Long Distance Charges        7043 non-null   float64\n",
      " 34  Total Revenue                      7043 non-null   float64\n",
      " 35  Customer Status                    7043 non-null   object \n",
      " 36  Churn Category                     1869 non-null   object \n",
      " 37  Churn Reason                       1869 non-null   object \n",
      "dtypes: float64(9), int64(6), object(23)\n",
      "memory usage: 2.0+ MB\n",
      "None\n",
      "\n",
      "Summary statistics:\n",
      "               Age  Number of Dependents      Zip Code     Latitude  \\\n",
      "count  7043.000000           7043.000000   7043.000000  7043.000000   \n",
      "mean     46.509726              0.468692  93486.070567    36.197455   \n",
      "std      16.750352              0.962802   1856.767505     2.468929   \n",
      "min      19.000000              0.000000  90001.000000    32.555828   \n",
      "25%      32.000000              0.000000  92101.000000    33.990646   \n",
      "50%      46.000000              0.000000  93518.000000    36.205465   \n",
      "75%      60.000000              0.000000  95329.000000    38.161321   \n",
      "max      80.000000              9.000000  96150.000000    41.962127   \n",
      "\n",
      "         Longitude  Number of Referrals  Tenure in Months  \\\n",
      "count  7043.000000          7043.000000       7043.000000   \n",
      "mean   -119.756684             1.951867         32.386767   \n",
      "std       2.154425             3.001199         24.542061   \n",
      "min    -124.301372             0.000000          1.000000   \n",
      "25%    -121.788090             0.000000          9.000000   \n",
      "50%    -119.595293             0.000000         29.000000   \n",
      "75%    -117.969795             3.000000         55.000000   \n",
      "max    -114.192901            11.000000         72.000000   \n",
      "\n",
      "       Avg Monthly Long Distance Charges  Avg Monthly GB Download  \\\n",
      "count                        6361.000000              5517.000000   \n",
      "mean                           25.420517                26.189958   \n",
      "std                            14.200374                19.586585   \n",
      "min                             1.010000                 2.000000   \n",
      "25%                            13.050000                13.000000   \n",
      "50%                            25.690000                21.000000   \n",
      "75%                            37.680000                30.000000   \n",
      "max                            49.990000                85.000000   \n",
      "\n",
      "       Monthly Charge  Total Charges  Total Refunds  Total Extra Data Charges  \\\n",
      "count     7043.000000    7043.000000    7043.000000               7043.000000   \n",
      "mean        63.596131    2280.381264       1.962182                  6.860713   \n",
      "std         31.204743    2266.220462       7.902614                 25.104978   \n",
      "min        -10.000000      18.800000       0.000000                  0.000000   \n",
      "25%         30.400000     400.150000       0.000000                  0.000000   \n",
      "50%         70.050000    1394.550000       0.000000                  0.000000   \n",
      "75%         89.750000    3786.600000       0.000000                  0.000000   \n",
      "max        118.750000    8684.800000      49.790000                150.000000   \n",
      "\n",
      "       Total Long Distance Charges  Total Revenue  \n",
      "count                  7043.000000    7043.000000  \n",
      "mean                    749.099262    3034.379056  \n",
      "std                     846.660055    2865.204542  \n",
      "min                       0.000000      21.360000  \n",
      "25%                      70.545000     605.610000  \n",
      "50%                     401.440000    2108.640000  \n",
      "75%                    1191.100000    4801.145000  \n",
      "max                    3564.720000   11979.340000  \n"
     ]
    }
   ],
   "source": [
    "print(\"First five rows of the dataset:\")\n",
    "print(df.head())\n",
    "print(\"\\nDataset information:\")\n",
    "print(df.info())\n",
    "print(\"\\nSummary statistics:\")\n",
    "print(df.describe())"
   ]
  },
  {
   "cell_type": "code",
   "execution_count": 4,
   "id": "19f5d9c7-06cb-4e5b-aa55-955d47415d9f",
   "metadata": {},
   "outputs": [
    {
     "name": "stdout",
     "output_type": "stream",
     "text": [
      "\n",
      "Column names in the dataset:\n",
      "['Customer ID', 'Gender', 'Age', 'Married', 'Number of Dependents', 'City', 'Zip Code', 'Latitude', 'Longitude', 'Number of Referrals', 'Tenure in Months', 'Offer', 'Phone Service', 'Avg Monthly Long Distance Charges', 'Multiple Lines', 'Internet Service', 'Internet Type', 'Avg Monthly GB Download', 'Online Security', 'Online Backup', 'Device Protection Plan', 'Premium Tech Support', 'Streaming TV', 'Streaming Movies', 'Streaming Music', 'Unlimited Data', 'Contract', 'Paperless Billing', 'Payment Method', 'Monthly Charge', 'Total Charges', 'Total Refunds', 'Total Extra Data Charges', 'Total Long Distance Charges', 'Total Revenue', 'Customer Status', 'Churn Category', 'Churn Reason']\n"
     ]
    }
   ],
   "source": [
    "# Check column names\n",
    "print(\"\\nColumn names in the dataset:\")\n",
    "df.columns = df.columns.str.strip()  # Normalize column names by stripping whitespace\n",
    "print(df.columns.tolist())"
   ]
  },
  {
   "cell_type": "code",
   "execution_count": 5,
   "id": "6b872460-c153-45d5-ab8d-23c15ea4b4a2",
   "metadata": {},
   "outputs": [
    {
     "name": "stdout",
     "output_type": "stream",
     "text": [
      "\n",
      "Missing values in each column:\n",
      "Customer ID                             0\n",
      "Gender                                  0\n",
      "Age                                     0\n",
      "Married                                 0\n",
      "Number of Dependents                    0\n",
      "City                                    0\n",
      "Zip Code                                0\n",
      "Latitude                                0\n",
      "Longitude                               0\n",
      "Number of Referrals                     0\n",
      "Tenure in Months                        0\n",
      "Offer                                3877\n",
      "Phone Service                           0\n",
      "Avg Monthly Long Distance Charges     682\n",
      "Multiple Lines                        682\n",
      "Internet Service                        0\n",
      "Internet Type                        1526\n",
      "Avg Monthly GB Download              1526\n",
      "Online Security                      1526\n",
      "Online Backup                        1526\n",
      "Device Protection Plan               1526\n",
      "Premium Tech Support                 1526\n",
      "Streaming TV                         1526\n",
      "Streaming Movies                     1526\n",
      "Streaming Music                      1526\n",
      "Unlimited Data                       1526\n",
      "Contract                                0\n",
      "Paperless Billing                       0\n",
      "Payment Method                          0\n",
      "Monthly Charge                          0\n",
      "Total Charges                           0\n",
      "Total Refunds                           0\n",
      "Total Extra Data Charges                0\n",
      "Total Long Distance Charges             0\n",
      "Total Revenue                           0\n",
      "Customer Status                         0\n",
      "Churn Category                       5174\n",
      "Churn Reason                         5174\n",
      "dtype: int64\n"
     ]
    }
   ],
   "source": [
    "# Check for missing values\n",
    "missing_values = df.isnull().sum()\n",
    "print(\"\\nMissing values in each column:\")\n",
    "print(missing_values)"
   ]
  },
  {
   "cell_type": "markdown",
   "id": "50bb64ac-81dd-4057-9ae2-11df0744750f",
   "metadata": {},
   "source": [
    "- Task 3: Handle missing values"
   ]
  },
  {
   "cell_type": "code",
   "execution_count": 7,
   "id": "d8abab18-6e0a-4d58-8449-e1342c05aaf6",
   "metadata": {},
   "outputs": [],
   "source": [
    "# Assuming we drop rows with missing target values, fill others with mean\n",
    "if 'Churn Category' in df.columns:  # Check for the correct target column\n",
    "    df.dropna(subset=['Churn Category'], inplace=True)  # Drop rows where 'Churn Category' is missing\n",
    "    df.fillna(df.mean(numeric_only=True), inplace=True)  # Fill other numeric missing values with mean\n",
    "else:\n",
    "    print(\"Column 'Churn Category' not found in the dataset. Please check the column names.\")"
   ]
  },
  {
   "cell_type": "markdown",
   "id": "573055d6-898e-4b13-95c4-a7e6a2f160ca",
   "metadata": {},
   "source": [
    "- Task 4: Remove duplicate records"
   ]
  },
  {
   "cell_type": "code",
   "execution_count": 8,
   "id": "62e38732-a881-42a2-b089-0e2ab0e2d973",
   "metadata": {},
   "outputs": [
    {
     "name": "stdout",
     "output_type": "stream",
     "text": [
      "\n",
      "Number of duplicate records before removal: 0\n",
      "Number of duplicate records after removal: 0\n"
     ]
    }
   ],
   "source": [
    "print(\"\\nNumber of duplicate records before removal:\", df.duplicated().sum())\n",
    "df.drop_duplicates(inplace=True)\n",
    "print(\"Number of duplicate records after removal:\", df.duplicated().sum())"
   ]
  },
  {
   "cell_type": "markdown",
   "id": "52052c3d-8b20-4d50-b238-153112e8b71b",
   "metadata": {},
   "source": [
    "- Task 5: Check for inconsistent data"
   ]
  },
  {
   "cell_type": "code",
   "execution_count": 9,
   "id": "f7fd9860-c905-4a42-958e-a881a494aeb8",
   "metadata": {},
   "outputs": [],
   "source": [
    "# Example: Standardizing categorical variables\n",
    "df['Gender'] = df['Gender'].str.strip().str.lower()\n",
    "df['Internet Service'] = df['Internet Service'].str.strip().str.lower()  # Use the correct column name"
   ]
  },
  {
   "cell_type": "markdown",
   "id": "382908fa-3b63-4a67-96ce-533713a5b2e7",
   "metadata": {},
   "source": [
    "- Task 6: Convert columns to correct data types"
   ]
  },
  {
   "cell_type": "code",
   "execution_count": 10,
   "id": "11792748-ba82-4480-83de-302c79295726",
   "metadata": {},
   "outputs": [],
   "source": [
    "if 'Churn Category' in df.columns:\n",
    "    df['Churn Category'] = df['Churn Category'].map({'Yes': 1, 'No': 0})"
   ]
  },
  {
   "cell_type": "markdown",
   "id": "493b8fe4-5b1d-4e93-bf43-838f26c4ca2f",
   "metadata": {},
   "source": [
    "- Task 7: Identify and handle outliers"
   ]
  },
  {
   "cell_type": "code",
   "execution_count": 11,
   "id": "59965222-a62b-4c22-a0e8-0dfd17586674",
   "metadata": {},
   "outputs": [
    {
     "name": "stdout",
     "output_type": "stream",
     "text": [
      "\n",
      "Number of outliers detected: 329\n"
     ]
    }
   ],
   "source": [
    "# Simple outlier detection using Z-score\n",
    "z_scores = np.abs(stats.zscore(df.select_dtypes(include=[np.number])))\n",
    "outliers = (z_scores > 3).any(axis=1)\n",
    "print(\"\\nNumber of outliers detected:\", outliers.sum())\n",
    "df = df[~outliers]  # Remove outliers"
   ]
  },
  {
   "cell_type": "markdown",
   "id": "37f3f458-41b7-40aa-8364-c3284f95b1f5",
   "metadata": {},
   "source": [
    "- Task 8: Feature engineering"
   ]
  },
  {
   "cell_type": "code",
   "execution_count": 12,
   "id": "93702a34-e463-43b2-852f-988c6f23597d",
   "metadata": {},
   "outputs": [],
   "source": [
    "# Example: Create a new feature for total charges\n",
    "df['TotalCharges'] = df['Monthly Charge'] * df['Tenure in Months']"
   ]
  },
  {
   "cell_type": "markdown",
   "id": "63da402c-842b-4d20-9887-3792edd81715",
   "metadata": {},
   "source": [
    "- Task 9: Normalize or scale the data if necessary"
   ]
  },
  {
   "cell_type": "code",
   "execution_count": 13,
   "id": "53dff2eb-2f84-49e6-a550-72195db8e321",
   "metadata": {},
   "outputs": [
    {
     "name": "stdout",
     "output_type": "stream",
     "text": [
      "\n",
      "Missing values before scaling:\n",
      "Customer ID                             0\n",
      "Gender                                  0\n",
      "Age                                     0\n",
      "Married                                 0\n",
      "Number of Dependents                    0\n",
      "City                                    0\n",
      "Zip Code                                0\n",
      "Latitude                                0\n",
      "Longitude                               0\n",
      "Number of Referrals                     0\n",
      "Tenure in Months                        0\n",
      "Offer                                 857\n",
      "Phone Service                           0\n",
      "Avg Monthly Long Distance Charges       0\n",
      "Multiple Lines                        142\n",
      "Internet Service                        0\n",
      "Internet Type                          96\n",
      "Avg Monthly GB Download                 0\n",
      "Online Security                        96\n",
      "Online Backup                          96\n",
      "Device Protection Plan                 96\n",
      "Premium Tech Support                   96\n",
      "Streaming TV                           96\n",
      "Streaming Movies                       96\n",
      "Streaming Music                        96\n",
      "Unlimited Data                         96\n",
      "Contract                                0\n",
      "Paperless Billing                       0\n",
      "Payment Method                          0\n",
      "Monthly Charge                          0\n",
      "Total Charges                           0\n",
      "Total Refunds                           0\n",
      "Total Extra Data Charges                0\n",
      "Total Long Distance Charges             0\n",
      "Total Revenue                           0\n",
      "Customer Status                         0\n",
      "Churn Category                       1540\n",
      "Churn Reason                            0\n",
      "TotalCharges                            0\n",
      "dtype: int64\n",
      "\n",
      "Missing values after filling:\n",
      "Customer ID                             0\n",
      "Gender                                  0\n",
      "Age                                     0\n",
      "Married                                 0\n",
      "Number of Dependents                    0\n",
      "City                                    0\n",
      "Zip Code                                0\n",
      "Latitude                                0\n",
      "Longitude                               0\n",
      "Number of Referrals                     0\n",
      "Tenure in Months                        0\n",
      "Offer                                 857\n",
      "Phone Service                           0\n",
      "Avg Monthly Long Distance Charges       0\n",
      "Multiple Lines                        142\n",
      "Internet Service                        0\n",
      "Internet Type                          96\n",
      "Avg Monthly GB Download                 0\n",
      "Online Security                        96\n",
      "Online Backup                          96\n",
      "Device Protection Plan                 96\n",
      "Premium Tech Support                   96\n",
      "Streaming TV                           96\n",
      "Streaming Movies                       96\n",
      "Streaming Music                        96\n",
      "Unlimited Data                         96\n",
      "Contract                                0\n",
      "Paperless Billing                       0\n",
      "Payment Method                          0\n",
      "Monthly Charge                          0\n",
      "Total Charges                           0\n",
      "Total Refunds                           0\n",
      "Total Extra Data Charges                0\n",
      "Total Long Distance Charges             0\n",
      "Total Revenue                           0\n",
      "Customer Status                         0\n",
      "Churn Category                       1540\n",
      "Churn Reason                            0\n",
      "TotalCharges                            0\n",
      "dtype: int64\n"
     ]
    },
    {
     "name": "stderr",
     "output_type": "stream",
     "text": [
      "C:\\Users\\Aditi\\.jupyter\\anaconda\\lib\\site-packages\\sklearn\\utils\\extmath.py:1137: RuntimeWarning: invalid value encountered in divide\n",
      "  updated_mean = (last_sum + new_sum) / updated_sample_count\n",
      "C:\\Users\\Aditi\\.jupyter\\anaconda\\lib\\site-packages\\sklearn\\utils\\extmath.py:1142: RuntimeWarning: invalid value encountered in divide\n",
      "  T = new_sum / new_sample_count\n",
      "C:\\Users\\Aditi\\.jupyter\\anaconda\\lib\\site-packages\\sklearn\\utils\\extmath.py:1162: RuntimeWarning: invalid value encountered in divide\n",
      "  new_unnormalized_variance -= correction**2 / new_sample_count\n"
     ]
    }
   ],
   "source": [
    "from sklearn.preprocessing import StandardScaler\n",
    "\n",
    "# Check for missing values before scaling\n",
    "print(\"\\nMissing values before scaling:\")\n",
    "print(df.isnull().sum())\n",
    "\n",
    "# Fill any remaining NaN values with mean or drop them\n",
    "df.fillna(df.mean(numeric_only=True), inplace=True)\n",
    "\n",
    "# Verify that there are no missing values\n",
    "print(\"\\nMissing values after filling:\")\n",
    "print(df.isnull().sum())\n",
    "\n",
    "# Select numeric columns for scaling\n",
    "numeric_cols = df.select_dtypes(include=[np.float64, np.int64]).columns\n",
    "scaler = StandardScaler()\n",
    "\n",
    "# Apply scaling\n",
    "scaled_features = scaler.fit_transform(df[numeric_cols])\n",
    "\n",
    "# Updating the DataFrame with scaled features\n",
    "scaled_df = pd.DataFrame(scaled_features, columns=numeric_cols)\n",
    "df = pd.concat([df.select_dtypes(exclude=[np.float64, np.int64]), scaled_df], axis=1)"
   ]
  },
  {
   "cell_type": "markdown",
   "id": "3a33b7ce-2017-4048-85d8-8bb42a8b0fcc",
   "metadata": {},
   "source": [
    "- Task 10: Split the dataset into training and testing sets"
   ]
  },
  {
   "cell_type": "code",
   "execution_count": 14,
   "id": "7d5d2017-46e8-422c-990b-fccee3e585d4",
   "metadata": {},
   "outputs": [],
   "source": [
    "X = df.drop('Churn Category', axis=1, errors='ignore')  # Features\n",
    "y = df['Churn Category']  # Target variable\n",
    "X_train, X_test, y_train, y_test = train_test_split(X, y, test_size=0.2, random_state=42)"
   ]
  },
  {
   "cell_type": "markdown",
   "id": "b99ef360-463b-4097-8f51-afcd4e2a4951",
   "metadata": {},
   "source": [
    "- Task 11: Export the cleaned dataset for future analysis or modeling"
   ]
  },
  {
   "cell_type": "code",
   "execution_count": 16,
   "id": "ee55f4f0-0581-4ed7-a68b-b7f7bf5d3f73",
   "metadata": {},
   "outputs": [
    {
     "name": "stdout",
     "output_type": "stream",
     "text": [
      "\n",
      "Data cleaning and preparation completed. Cleaned dataset saved as 'Cleaned_Telecom_Customer_Churn.csv'.\n"
     ]
    }
   ],
   "source": [
    "df.to_csv('Cleaned_Telecom_Customer_Churn.csv', index=False)\n",
    "\n",
    "print(\"\\nData cleaning and preparation completed. Cleaned dataset saved as 'Cleaned_Telecom_Customer_Churn.csv'.\")"
   ]
  },
  {
   "cell_type": "code",
   "execution_count": null,
   "id": "c8b623d8-5314-4908-b4a3-a4630df8c702",
   "metadata": {},
   "outputs": [],
   "source": []
  }
 ],
 "metadata": {
  "kernelspec": {
   "display_name": "Python 3 (ipykernel)",
   "language": "python",
   "name": "python3"
  },
  "language_info": {
   "codemirror_mode": {
    "name": "ipython",
    "version": 3
   },
   "file_extension": ".py",
   "mimetype": "text/x-python",
   "name": "python",
   "nbconvert_exporter": "python",
   "pygments_lexer": "ipython3",
   "version": "3.10.9"
  }
 },
 "nbformat": 4,
 "nbformat_minor": 5
}
