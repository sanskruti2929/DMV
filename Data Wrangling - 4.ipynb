{
 "cells": [
  {
   "cell_type": "markdown",
   "id": "d198f8d2-efa7-4d5b-90d6-6353411d81f0",
   "metadata": {},
   "source": [
    "# Data Wrangling \r\n",
    "Problem Statement: Data Wrangling on Real Estate Market \r\n",
    "Dataset: \"RealEstate_Prices.csv\" \r\n",
    "Description: The dataset contains information about housing prices in a specific real estate \r\n",
    "market. It includes various attributes such as property characteristics, location, sale prices, \r\n",
    "and other relevant features. The goal is to perform data wrangling to gain insights into the \r\n",
    "factors influencing housing prices and prepare the dataset for further analysis or modeling. \r\n",
    "Tasks to Perform: \r\n",
    "1.  Import the \"RealEstate_Prices.csv\" dataset. Clean column names by removing spaces, \r\n",
    "special characters, or renaming them for clarity. \r\n",
    "2. Handle missing values in the dataset, deciding on an appropriate strategy (e.g., \r\n",
    "imputation or removal). \r\n",
    "3. Perform data merging if additional datasets with relevant information are available \r\n",
    "(e.g., neighborhood demographics or nearby amenities). \r\n",
    "4. Filter and subset the data based on specific criteria, such as a particular time period, \r\n",
    "property type, or location. \r\n",
    "5. Handle categorical variables by encoding them appropriately (e.g., one-hot encoding or \r\n",
    "label encoding) for further analysis. \r\n",
    "6.  Aggregate the data to calculate summary statistics or derived metrics such as average \r\n",
    "sale prices by neighborhood or property type. \r\n",
    "7. Identify and handle outliers or extreme values in the data that may affect the analysis \r\n",
    "or modeling process. "
   ]
  },
  {
   "cell_type": "markdown",
   "id": "e3623eba-b9aa-4080-9217-64876a463408",
   "metadata": {},
   "source": [
    "- Import necessary libraries"
   ]
  },
  {
   "cell_type": "code",
   "execution_count": 5,
   "id": "13e2e059-9264-4a06-8e1b-e771582bc80d",
   "metadata": {},
   "outputs": [],
   "source": [
    "import pandas as pd\n",
    "import numpy as np"
   ]
  },
  {
   "cell_type": "markdown",
   "id": "0f3824b1-595e-4e7d-8512-16284e95c46a",
   "metadata": {},
   "source": [
    "- Task 1: Import the dataset and clean column names"
   ]
  },
  {
   "cell_type": "code",
   "execution_count": 7,
   "id": "c72bdca6-34c6-4c30-aab6-f880760fae24",
   "metadata": {},
   "outputs": [],
   "source": [
    "df = pd.read_csv('RealEstate_Prices.csv')"
   ]
  },
  {
   "cell_type": "code",
   "execution_count": 8,
   "id": "56b7a478-36bf-4f52-8537-0292e6db3d5c",
   "metadata": {},
   "outputs": [
    {
     "name": "stdout",
     "output_type": "stream",
     "text": [
      "Cleaned Column Names: Index(['No', 'X1_transaction_date', 'X2_house_age',\n",
      "       'X3_distance_to_the_nearest_MRT_station',\n",
      "       'X4_number_of_convenience_stores', 'X5_latitude', 'X6_longitude',\n",
      "       'Y_house_price_of_unit_area'],\n",
      "      dtype='object')\n"
     ]
    }
   ],
   "source": [
    "# Clean column names (remove spaces, special characters, and standardize)\n",
    "df.columns = df.columns.str.strip().str.replace(' ', '_').str.replace('[^A-Za-z0-9_]+', '')\n",
    "\n",
    "# View the cleaned column names\n",
    "print(\"Cleaned Column Names:\", df.columns)"
   ]
  },
  {
   "cell_type": "markdown",
   "id": "0daee2a3-b144-4855-abba-7c22a32b9a9a",
   "metadata": {},
   "source": [
    "- Task 2: Handle missing values"
   ]
  },
  {
   "cell_type": "code",
   "execution_count": 9,
   "id": "7fcd5127-80fd-4663-b4d5-52c8992f7613",
   "metadata": {},
   "outputs": [],
   "source": [
    "# Option 1: Drop rows with missing values\n",
    "df_cleaned = df.dropna()\n",
    "\n",
    "# Option 2: Impute missing values with mean (for numerical columns)\n",
    "df.fillna(df.mean(), inplace=True)\n",
    "\n",
    "# For categorical columns, fill missing values with mode (most frequent value)\n",
    "for column in df.select_dtypes(include=['object']).columns:\n",
    "    df[column].fillna(df[column].mode()[0], inplace=True)"
   ]
  },
  {
   "cell_type": "markdown",
   "id": "c9a8c4a6-ef4a-4de7-a5f7-99c587efd787",
   "metadata": {},
   "source": [
    "- Task 4: Filter and subset the data based on criteria"
   ]
  },
  {
   "cell_type": "code",
   "execution_count": 12,
   "id": "bae61183-a9f4-4eaa-966f-be506c39ff46",
   "metadata": {},
   "outputs": [],
   "source": [
    "# Convert 'X1_transaction_date' to a numeric or date format\n",
    "df['X1_transaction_date'] = pd.to_numeric(df['X1_transaction_date'], errors='coerce')  # Convert to numeric if it's in a number format\n",
    "\n",
    "# Now we can filter based on transaction date, assuming it represents a year\n",
    "df_filtered = df[df['X1_transaction_date'] >= 2010]"
   ]
  },
  {
   "cell_type": "markdown",
   "id": "2fdb94e3-9437-4a82-99ab-1fbdec1372d7",
   "metadata": {},
   "source": [
    "- Task 6: Aggregate the data to calculate summary statistics"
   ]
  },
  {
   "cell_type": "code",
   "execution_count": 13,
   "id": "277a221a-0cc7-4eb6-9f68-075d5fdb8186",
   "metadata": {},
   "outputs": [],
   "source": [
    "# Example: Calculate average house price by number of convenience stores\n",
    "avg_price_by_convenience = df.groupby('X4_number_of_convenience_stores')['Y_house_price_of_unit_area'].mean().reset_index()"
   ]
  },
  {
   "cell_type": "markdown",
   "id": "4a12c2db-1bae-4add-a2b9-dcc315064eca",
   "metadata": {},
   "source": [
    "- Task 7: Identify and handle outliers"
   ]
  },
  {
   "cell_type": "code",
   "execution_count": 14,
   "id": "feb50583-9c5a-44aa-89a1-0cd67f784020",
   "metadata": {},
   "outputs": [],
   "source": [
    "# Example: Using IQR method to detect outliers in 'Y_house_price_of_unit_area'\n",
    "Q1 = df['Y_house_price_of_unit_area'].quantile(0.25)\n",
    "Q3 = df['Y_house_price_of_unit_area'].quantile(0.75)\n",
    "IQR = Q3 - Q1"
   ]
  },
  {
   "cell_type": "code",
   "execution_count": 15,
   "id": "a551b866-c2bf-4cd2-a420-22b8979f7ce9",
   "metadata": {},
   "outputs": [],
   "source": [
    "# Define lower and upper bounds for outliers\n",
    "lower_bound = Q1 - 1.5 * IQR\n",
    "upper_bound = Q3 + 1.5 * IQR"
   ]
  },
  {
   "cell_type": "code",
   "execution_count": 16,
   "id": "21462905-668d-4741-8a3f-2ef039a3635c",
   "metadata": {},
   "outputs": [],
   "source": [
    "# Filter out outliers from the dataset\n",
    "df_no_outliers = df[(df['Y_house_price_of_unit_area'] >= lower_bound) & (df['Y_house_price_of_unit_area'] <= upper_bound)]"
   ]
  },
  {
   "cell_type": "code",
   "execution_count": 17,
   "id": "68d26358-ea56-4abc-9055-3f01f38dcd6f",
   "metadata": {},
   "outputs": [
    {
     "name": "stdout",
     "output_type": "stream",
     "text": [
      "Summary Statistics after Outlier Removal:\n",
      "count    411.000000\n",
      "mean      37.591241\n",
      "std       12.768915\n",
      "min        7.600000\n",
      "25%       27.500000\n",
      "50%       38.400000\n",
      "75%       46.300000\n",
      "max       73.600000\n",
      "Name: Y_house_price_of_unit_area, dtype: float64\n"
     ]
    }
   ],
   "source": [
    "# View summary statistics after outlier removal\n",
    "print(\"Summary Statistics after Outlier Removal:\")\n",
    "print(df_no_outliers['Y_house_price_of_unit_area'].describe())"
   ]
  },
  {
   "cell_type": "code",
   "execution_count": 18,
   "id": "c9fc3887-39df-4604-af8b-a2d353e2545f",
   "metadata": {},
   "outputs": [
    {
     "name": "stdout",
     "output_type": "stream",
     "text": [
      "Data Wrangling Completed.\n"
     ]
    }
   ],
   "source": [
    "# Export the cleaned dataset for further analysis or modeling\n",
    "df_no_outliers.to_csv('Cleaned_RealEstate_Prices.csv', index=False)\n",
    "\n",
    "print(\"Data Wrangling Completed.\")"
   ]
  },
  {
   "cell_type": "code",
   "execution_count": null,
   "id": "432b17bc-dfa4-463b-bac1-c1afa74fdc26",
   "metadata": {},
   "outputs": [],
   "source": []
  }
 ],
 "metadata": {
  "kernelspec": {
   "display_name": "Python 3 (ipykernel)",
   "language": "python",
   "name": "python3"
  },
  "language_info": {
   "codemirror_mode": {
    "name": "ipython",
    "version": 3
   },
   "file_extension": ".py",
   "mimetype": "text/x-python",
   "name": "python",
   "nbconvert_exporter": "python",
   "pygments_lexer": "ipython3",
   "version": "3.10.9"
  }
 },
 "nbformat": 4,
 "nbformat_minor": 5
}
